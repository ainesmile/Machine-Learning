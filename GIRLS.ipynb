{
 "cells": [
  {
   "cell_type": "code",
   "execution_count": 1,
   "metadata": {},
   "outputs": [],
   "source": [
    "import numpy as np\n",
    "\n",
    "import time\n",
    "\n",
    "from sklearn.model_selection import train_test_split\n",
    "\n",
    "from sklearn.linear_model import LinearRegression\n",
    "from sklearn.metrics import r2_score\n",
    "\n",
    "from sklearn.datasets import load_boston"
   ]
  },
  {
   "cell_type": "code",
   "execution_count": 2,
   "metadata": {},
   "outputs": [],
   "source": [
    "data, target = load_boston(return_X_y=True)\n",
    "X, X_test, y, y_test = train_test_split(data, target)\n",
    "\n",
    "X = np.insert(X, 0, 1, axis=1)\n",
    "X_test = np.insert(X_test, 0, 1, axis=1)"
   ]
  },
  {
   "cell_type": "code",
   "execution_count": 3,
   "metadata": {},
   "outputs": [],
   "source": [
    "def matrix_mul(matries):\n",
    "    length = len(matries)\n",
    "    if length < 3:\n",
    "        raise Exception('Not enough matries.')\n",
    "    \n",
    "    first_matrix = matries.pop(0)\n",
    "    I = np.identity(first_matrix.shape[0])\n",
    "    mul = I.dot(first_matrix)\n",
    "    while matries != []:\n",
    "        next_matrix = matries.pop(0)\n",
    "        mul = mul.dot(next_matrix)\n",
    "    return mul\n",
    "\n",
    "def print_r2_scores(names, betas):\n",
    "    print('r2_scores: ')\n",
    "    for name, beta in zip(names, betas):\n",
    "        y_pred = X_test.dot(beta)\n",
    "        score = r2_score(y_test, y_pred)\n",
    "        print(name, ':', score)"
   ]
  },
  {
   "cell_type": "code",
   "execution_count": 4,
   "metadata": {},
   "outputs": [],
   "source": [
    "# 1. LinearRegression\n",
    "\n",
    "linear_regression = LinearRegression()\n",
    "linear_regression.fit(X, y)\n",
    "beta_linear = linear_regression.coef_"
   ]
  },
  {
   "cell_type": "code",
   "execution_count": 5,
   "metadata": {},
   "outputs": [],
   "source": [
    "# 2. Iteratively reweighted least squares\n",
    "\n",
    "def IRLS(X, y, p):\n",
    "    n, m = X.shape\n",
    "    \n",
    "    W = np.zeros((n, n))\n",
    "    w = np.ones(n)\n",
    "    delta = 0.00001\n",
    "    it = 1000\n",
    "    \n",
    "    beta = np.zeros(m)\n",
    "    \n",
    "    start_seconds = time.time()\n",
    "    \n",
    "    while it > 0:\n",
    "        np.fill_diagonal(W, w)\n",
    "    \n",
    "        G = matrix_mul([X.T, W.T, W, X])\n",
    "        G_inv = np.linalg.inv(G)\n",
    "\n",
    "        beta_new = matrix_mul([G_inv, X.T, W.T, y])\n",
    "        \n",
    "        if np.allclose(beta, beta_new):\n",
    "            print('it', it)\n",
    "            beta = beta_new\n",
    "            break\n",
    "        \n",
    "        r_abs = np.abs(y - X.dot(beta_new))\n",
    "        r = np.where(r_abs > delta, r_abs, delta)\n",
    "        \n",
    "        w = np.power(r, (p-2)/2)\n",
    "        beta = beta_new\n",
    "        \n",
    "        it -= 1\n",
    "        \n",
    "    seconds = time.time() - start_seconds\n",
    "    print('seconds', seconds)\n",
    "    return beta"
   ]
  },
  {
   "cell_type": "code",
   "execution_count": 6,
   "metadata": {},
   "outputs": [
    {
     "name": "stdout",
     "output_type": "stream",
     "text": [
      "it 913\n",
      "seconds 0.1650080680847168\n",
      "seconds 1.4859411716461182\n",
      "it 999\n",
      "seconds 0.004476070404052734\n"
     ]
    }
   ],
   "source": [
    "beta_irls_1 = IRLS(X, y, 1)\n",
    "beta_irls_1_5 = IRLS(X, y, 1.5)\n",
    "beta_irls_2 = IRLS(X, y, 2)"
   ]
  },
  {
   "cell_type": "code",
   "execution_count": 7,
   "metadata": {},
   "outputs": [],
   "source": [
    "# 3. GIRLS\n",
    "\n",
    "# h(r) = np.power((r*r+delta), 1/2)\n",
    "# g(r, z) = h(r) + (z*z-r*r)/(2h(r))\n",
    "\n",
    "def GIRLS(X, y, p):\n",
    "\n",
    "    n, m = X.shape\n",
    "    delta = 0.00001\n",
    "    \n",
    "    \n",
    "    beta = np.ones(m)\n",
    "    \n",
    "    it = 1000\n",
    "    W = np.zeros((n, n))\n",
    "    \n",
    "    start_seconds = time.time()\n",
    "\n",
    "    while it > 0:\n",
    "        r = y - X.dot(beta)\n",
    "        w = np.power(r*r+delta, (p-2)/2)\n",
    "        np.fill_diagonal(W, w)\n",
    "\n",
    "        G = matrix_mul([X.T, W, X])\n",
    "        G_inv = np.linalg.inv(G)\n",
    "\n",
    "        beta_new = matrix_mul([G_inv, X.T, W, y])\n",
    "        if np.allclose(beta, beta_new):\n",
    "            beta = beta_new\n",
    "            print('it', it)\n",
    "            break\n",
    "        else:\n",
    "            beta = beta_new\n",
    "            it -= 1\n",
    "    seconds = time.time() - start_seconds\n",
    "    print('seconds', seconds)\n",
    "    return beta"
   ]
  },
  {
   "cell_type": "code",
   "execution_count": 8,
   "metadata": {},
   "outputs": [
    {
     "name": "stdout",
     "output_type": "stream",
     "text": [
      "it 717\n",
      "seconds 0.28119921684265137\n",
      "it 982\n",
      "seconds 0.018699169158935547\n",
      "it 999\n",
      "seconds 0.002808809280395508\n"
     ]
    }
   ],
   "source": [
    "beta_girls_1 = GIRLS(X, y, 1)\n",
    "beta_girls_1_5 = GIRLS(X, y, 1.5)\n",
    "beta_girls_2 = GIRLS(X, y, 2)"
   ]
  },
  {
   "cell_type": "code",
   "execution_count": 9,
   "metadata": {},
   "outputs": [
    {
     "name": "stdout",
     "output_type": "stream",
     "text": [
      "r2_scores: \n",
      "linear : -12.644672428278124\n",
      "irls_1 : -3715.708114980665\n",
      "irls_1.5 : -13.707831873522439\n",
      "irls_2 : 0.6271302394192783\n",
      "girls_1 : 0.6067067809995353\n",
      "girls_1.5 : 0.6225998071404956\n",
      "girls_2 : 0.6271302394192783\n"
     ]
    }
   ],
   "source": [
    "# compare r2_scores\n",
    "\n",
    "names = ['linear', 'irls_1', 'irls_1.5', 'irls_2', 'girls_1', 'girls_1.5', 'girls_2']\n",
    "betas = [beta_linear, beta_irls_1, beta_irls_1_5, beta_irls_2,  beta_girls_1, beta_girls_1_5, beta_girls_2] \n",
    "\n",
    "print_r2_scores(names, betas)"
   ]
  }
 ],
 "metadata": {
  "kernelspec": {
   "display_name": "Python 3",
   "language": "python",
   "name": "python3"
  },
  "language_info": {
   "codemirror_mode": {
    "name": "ipython",
    "version": 3
   },
   "file_extension": ".py",
   "mimetype": "text/x-python",
   "name": "python",
   "nbconvert_exporter": "python",
   "pygments_lexer": "ipython3",
   "version": "3.7.1"
  }
 },
 "nbformat": 4,
 "nbformat_minor": 2
}
